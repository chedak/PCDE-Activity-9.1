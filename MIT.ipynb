    "Full Name: Ched Akosa. GitHub username: Chedak\n",
    "\n",
    "The Massachusetts Institute of Technology (MIT) is a private university in Cambridge, Massachusetts. Established in 1861, MIT has since then been at the center of the development of modern technology and science. Since it was founded, MIT has ranked among the top academic institutes in the world.\n",
    "\n",
    "The original MIT logo was created by by Seymour Papert and represents two figures symbolizing the fields of Science and Art. The image below displays the original logo.\n",
    "\n",
    
   ]
  }
 ],
 
